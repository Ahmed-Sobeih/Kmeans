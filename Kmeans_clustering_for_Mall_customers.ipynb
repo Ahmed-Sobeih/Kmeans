{
  "nbformat": 4,
  "nbformat_minor": 0,
  "metadata": {
    "colab": {
      "provenance": [],
      "include_colab_link": true
    },
    "kernelspec": {
      "name": "python3",
      "display_name": "Python 3"
    },
    "language_info": {
      "name": "python"
    },
    "gpuClass": "standard"
  },
  "cells": [
    {
      "cell_type": "markdown",
      "metadata": {
        "id": "view-in-github",
        "colab_type": "text"
      },
      "source": [
        "<a href=\"https://colab.research.google.com/github/Ahmed-Sobeih/Kmeans/blob/main/Kmeans_clustering_for_Mall_customers.ipynb\" target=\"_parent\"><img src=\"https://colab.research.google.com/assets/colab-badge.svg\" alt=\"Open In Colab\"/></a>"
      ]
    },
    {
      "cell_type": "code",
      "execution_count": null,
      "metadata": {
        "id": "tg0kzzOHSj-U"
      },
      "outputs": [],
      "source": [
        "import pandas as pd\n",
        "import numpy as np\n",
        "import seaborn as sns\n",
        "import matplotlib.pyplot as plt\n"
      ]
    },
    {
      "cell_type": "code",
      "source": [
        "df=pd.read_csv('/content/Mall_Customers.csv')\n",
        "df.head()"
      ],
      "metadata": {
        "colab": {
          "base_uri": "https://localhost:8080/",
          "height": 206
        },
        "id": "7eN75NvHTOx3",
        "outputId": "4b532df0-f8e7-4261-f23c-81810fc1bb19"
      },
      "execution_count": null,
      "outputs": [
        {
          "output_type": "execute_result",
          "data": {
            "text/plain": [
              "   CustomerID   Genre  Age  Annual Income (k$)  Spending Score (1-100)\n",
              "0           1    Male   19                  15                      39\n",
              "1           2    Male   21                  15                      81\n",
              "2           3  Female   20                  16                       6\n",
              "3           4  Female   23                  16                      77\n",
              "4           5  Female   31                  17                      40"
            ],
            "text/html": [
              "\n",
              "  <div id=\"df-b7065802-3c7f-4244-8184-2bbf4fb8ca53\">\n",
              "    <div class=\"colab-df-container\">\n",
              "      <div>\n",
              "<style scoped>\n",
              "    .dataframe tbody tr th:only-of-type {\n",
              "        vertical-align: middle;\n",
              "    }\n",
              "\n",
              "    .dataframe tbody tr th {\n",
              "        vertical-align: top;\n",
              "    }\n",
              "\n",
              "    .dataframe thead th {\n",
              "        text-align: right;\n",
              "    }\n",
              "</style>\n",
              "<table border=\"1\" class=\"dataframe\">\n",
              "  <thead>\n",
              "    <tr style=\"text-align: right;\">\n",
              "      <th></th>\n",
              "      <th>CustomerID</th>\n",
              "      <th>Genre</th>\n",
              "      <th>Age</th>\n",
              "      <th>Annual Income (k$)</th>\n",
              "      <th>Spending Score (1-100)</th>\n",
              "    </tr>\n",
              "  </thead>\n",
              "  <tbody>\n",
              "    <tr>\n",
              "      <th>0</th>\n",
              "      <td>1</td>\n",
              "      <td>Male</td>\n",
              "      <td>19</td>\n",
              "      <td>15</td>\n",
              "      <td>39</td>\n",
              "    </tr>\n",
              "    <tr>\n",
              "      <th>1</th>\n",
              "      <td>2</td>\n",
              "      <td>Male</td>\n",
              "      <td>21</td>\n",
              "      <td>15</td>\n",
              "      <td>81</td>\n",
              "    </tr>\n",
              "    <tr>\n",
              "      <th>2</th>\n",
              "      <td>3</td>\n",
              "      <td>Female</td>\n",
              "      <td>20</td>\n",
              "      <td>16</td>\n",
              "      <td>6</td>\n",
              "    </tr>\n",
              "    <tr>\n",
              "      <th>3</th>\n",
              "      <td>4</td>\n",
              "      <td>Female</td>\n",
              "      <td>23</td>\n",
              "      <td>16</td>\n",
              "      <td>77</td>\n",
              "    </tr>\n",
              "    <tr>\n",
              "      <th>4</th>\n",
              "      <td>5</td>\n",
              "      <td>Female</td>\n",
              "      <td>31</td>\n",
              "      <td>17</td>\n",
              "      <td>40</td>\n",
              "    </tr>\n",
              "  </tbody>\n",
              "</table>\n",
              "</div>\n",
              "      <button class=\"colab-df-convert\" onclick=\"convertToInteractive('df-b7065802-3c7f-4244-8184-2bbf4fb8ca53')\"\n",
              "              title=\"Convert this dataframe to an interactive table.\"\n",
              "              style=\"display:none;\">\n",
              "        \n",
              "  <svg xmlns=\"http://www.w3.org/2000/svg\" height=\"24px\"viewBox=\"0 0 24 24\"\n",
              "       width=\"24px\">\n",
              "    <path d=\"M0 0h24v24H0V0z\" fill=\"none\"/>\n",
              "    <path d=\"M18.56 5.44l.94 2.06.94-2.06 2.06-.94-2.06-.94-.94-2.06-.94 2.06-2.06.94zm-11 1L8.5 8.5l.94-2.06 2.06-.94-2.06-.94L8.5 2.5l-.94 2.06-2.06.94zm10 10l.94 2.06.94-2.06 2.06-.94-2.06-.94-.94-2.06-.94 2.06-2.06.94z\"/><path d=\"M17.41 7.96l-1.37-1.37c-.4-.4-.92-.59-1.43-.59-.52 0-1.04.2-1.43.59L10.3 9.45l-7.72 7.72c-.78.78-.78 2.05 0 2.83L4 21.41c.39.39.9.59 1.41.59.51 0 1.02-.2 1.41-.59l7.78-7.78 2.81-2.81c.8-.78.8-2.07 0-2.86zM5.41 20L4 18.59l7.72-7.72 1.47 1.35L5.41 20z\"/>\n",
              "  </svg>\n",
              "      </button>\n",
              "      \n",
              "  <style>\n",
              "    .colab-df-container {\n",
              "      display:flex;\n",
              "      flex-wrap:wrap;\n",
              "      gap: 12px;\n",
              "    }\n",
              "\n",
              "    .colab-df-convert {\n",
              "      background-color: #E8F0FE;\n",
              "      border: none;\n",
              "      border-radius: 50%;\n",
              "      cursor: pointer;\n",
              "      display: none;\n",
              "      fill: #1967D2;\n",
              "      height: 32px;\n",
              "      padding: 0 0 0 0;\n",
              "      width: 32px;\n",
              "    }\n",
              "\n",
              "    .colab-df-convert:hover {\n",
              "      background-color: #E2EBFA;\n",
              "      box-shadow: 0px 1px 2px rgba(60, 64, 67, 0.3), 0px 1px 3px 1px rgba(60, 64, 67, 0.15);\n",
              "      fill: #174EA6;\n",
              "    }\n",
              "\n",
              "    [theme=dark] .colab-df-convert {\n",
              "      background-color: #3B4455;\n",
              "      fill: #D2E3FC;\n",
              "    }\n",
              "\n",
              "    [theme=dark] .colab-df-convert:hover {\n",
              "      background-color: #434B5C;\n",
              "      box-shadow: 0px 1px 3px 1px rgba(0, 0, 0, 0.15);\n",
              "      filter: drop-shadow(0px 1px 2px rgba(0, 0, 0, 0.3));\n",
              "      fill: #FFFFFF;\n",
              "    }\n",
              "  </style>\n",
              "\n",
              "      <script>\n",
              "        const buttonEl =\n",
              "          document.querySelector('#df-b7065802-3c7f-4244-8184-2bbf4fb8ca53 button.colab-df-convert');\n",
              "        buttonEl.style.display =\n",
              "          google.colab.kernel.accessAllowed ? 'block' : 'none';\n",
              "\n",
              "        async function convertToInteractive(key) {\n",
              "          const element = document.querySelector('#df-b7065802-3c7f-4244-8184-2bbf4fb8ca53');\n",
              "          const dataTable =\n",
              "            await google.colab.kernel.invokeFunction('convertToInteractive',\n",
              "                                                     [key], {});\n",
              "          if (!dataTable) return;\n",
              "\n",
              "          const docLinkHtml = 'Like what you see? Visit the ' +\n",
              "            '<a target=\"_blank\" href=https://colab.research.google.com/notebooks/data_table.ipynb>data table notebook</a>'\n",
              "            + ' to learn more about interactive tables.';\n",
              "          element.innerHTML = '';\n",
              "          dataTable['output_type'] = 'display_data';\n",
              "          await google.colab.output.renderOutput(dataTable, element);\n",
              "          const docLink = document.createElement('div');\n",
              "          docLink.innerHTML = docLinkHtml;\n",
              "          element.appendChild(docLink);\n",
              "        }\n",
              "      </script>\n",
              "    </div>\n",
              "  </div>\n",
              "  "
            ]
          },
          "metadata": {},
          "execution_count": 2
        }
      ]
    },
    {
      "cell_type": "code",
      "source": [
        "df.info()"
      ],
      "metadata": {
        "colab": {
          "base_uri": "https://localhost:8080/"
        },
        "id": "UaasmOVzToMF",
        "outputId": "c4a322f0-273c-4553-aa37-d49ce54a4638"
      },
      "execution_count": null,
      "outputs": [
        {
          "output_type": "stream",
          "name": "stdout",
          "text": [
            "<class 'pandas.core.frame.DataFrame'>\n",
            "RangeIndex: 200 entries, 0 to 199\n",
            "Data columns (total 5 columns):\n",
            " #   Column                  Non-Null Count  Dtype  \n",
            "---  ------                  --------------  -----  \n",
            " 0   CustomerID              200 non-null    int64  \n",
            " 1   Genre                   200 non-null    object \n",
            " 2   Age                     200 non-null    float64\n",
            " 3   Annual Income (k$)      200 non-null    float64\n",
            " 4   Spending Score (1-100)  200 non-null    float64\n",
            "dtypes: float64(3), int64(1), object(1)\n",
            "memory usage: 7.9+ KB\n"
          ]
        }
      ]
    },
    {
      "cell_type": "code",
      "source": [
        "plt.figure(figsize=(12,8))\n",
        "sns.scatterplot(x='Annual Income (k$)',y='Spending Score (1-100)',data=df)"
      ],
      "metadata": {
        "colab": {
          "base_uri": "https://localhost:8080/",
          "height": 514
        },
        "id": "fQ4b5YJpTSq2",
        "outputId": "8ac3d5bb-c1a6-417e-e2e2-78db781490d3"
      },
      "execution_count": null,
      "outputs": [
        {
          "output_type": "execute_result",
          "data": {
            "text/plain": [
              "<matplotlib.axes._subplots.AxesSubplot at 0x7f4a6d587e50>"
            ]
          },
          "metadata": {},
          "execution_count": 8
        },
        {
          "output_type": "display_data",
          "data": {
            "text/plain": [
              "<Figure size 864x576 with 1 Axes>"
            ],
            "image/png": "[encoded data removed]"
          },
          "metadata": {
            "needs_background": "light"
          }
        }
      ]
    },
    {
      "cell_type": "code",
      "source": [
        "df['Age']=df['Age'].astype(float)\n",
        "df['Annual Income (k$)']=df['Annual Income (k$)'].astype(float)\n",
        "df['Spending Score (1-100)']=df['Spending Score (1-100)'].astype(float)\n"
      ],
      "metadata": {
        "id": "aE-VPkM0U1Id"
      },
      "execution_count": null,
      "outputs": []
    },
    {
      "cell_type": "code",
      "source": [
        "plt.figure(figsize=(12,8))\n",
        "sns.scatterplot(x='Annual Income (k$)',y='Age',data=df)"
      ],
      "metadata": {
        "colab": {
          "base_uri": "https://localhost:8080/",
          "height": 514
        },
        "id": "ZmzODt4yT7Cl",
        "outputId": "de007e5c-fb81-4d95-c90a-89cb2e97244f"
      },
      "execution_count": null,
      "outputs": [
        {
          "output_type": "execute_result",
          "data": {
            "text/plain": [
              "<matplotlib.axes._subplots.AxesSubplot at 0x7f4a6df02f50>"
            ]
          },
          "metadata": {},
          "execution_count": 9
        },
        {
          "output_type": "display_data",
          "data": {
            "text/plain": [
              "<Figure size 864x576 with 1 Axes>"
            ],
            "image/png": "[encoded data removed]"
          },
          "metadata": {
            "needs_background": "light"
          }
        }
      ]
    },
    {
      "cell_type": "code",
      "source": [
        "plt.figure(figsize=(12,8))\n",
        "sns.scatterplot(x='Age',y='Spending Score (1-100)',data=df)"
      ],
      "metadata": {
        "colab": {
          "base_uri": "https://localhost:8080/",
          "height": 514
        },
        "id": "IPrGc8ZNUD20",
        "outputId": "4e82624a-74b9-40ad-968e-719d27d0e399"
      },
      "execution_count": null,
      "outputs": [
        {
          "output_type": "execute_result",
          "data": {
            "text/plain": [
              "<matplotlib.axes._subplots.AxesSubplot at 0x7f4a6d4844d0>"
            ]
          },
          "metadata": {},
          "execution_count": 10
        },
        {
          "output_type": "display_data",
          "data": {
            "text/plain": [
              "<Figure size 864x576 with 1 Axes>"
            ],
            "image/png": "[encoded data removed]"
          },
          "metadata": {
            "needs_background": "light"
          }
        }
      ]
    },
    {
      "cell_type": "code",
      "source": [
        "X=df[['Age','Spending Score (1-100)','Annual Income (k$)']].values"
      ],
      "metadata": {
        "id": "xGzwpK7XUjvs"
      },
      "execution_count": null,
      "outputs": []
    },
    {
      "cell_type": "code",
      "source": [
        "X"
      ],
      "metadata": {
        "colab": {
          "base_uri": "https://localhost:8080/"
        },
        "id": "zS8QepUpUthl",
        "outputId": "4f435b97-9e57-4d0f-ccd5-8ce6305cdc0d"
      },
      "execution_count": null,
      "outputs": [
        {
          "output_type": "execute_result",
          "data": {
            "text/plain": [
              "array([[ 19.,  39.,  15.],\n",
              "       [ 21.,  81.,  15.],\n",
              "       [ 20.,   6.,  16.],\n",
              "       [ 23.,  77.,  16.],\n",
              "       [ 31.,  40.,  17.],\n",
              "       [ 22.,  76.,  17.],\n",
              "       [ 35.,   6.,  18.],\n",
              "       [ 23.,  94.,  18.],\n",
              "       [ 64.,   3.,  19.],\n",
              "       [ 30.,  72.,  19.],\n",
              "       [ 67.,  14.,  19.],\n",
              "       [ 35.,  99.,  19.],\n",
              "       [ 58.,  15.,  20.],\n",
              "       [ 24.,  77.,  20.],\n",
              "       [ 37.,  13.,  20.],\n",
              "       [ 22.,  79.,  20.],\n",
              "       [ 35.,  35.,  21.],\n",
              "       [ 20.,  66.,  21.],\n",
              "       [ 52.,  29.,  23.],\n",
              "       [ 35.,  98.,  23.],\n",
              "       [ 35.,  35.,  24.],\n",
              "       [ 25.,  73.,  24.],\n",
              "       [ 46.,   5.,  25.],\n",
              "       [ 31.,  73.,  25.],\n",
              "       [ 54.,  14.,  28.],\n",
              "       [ 29.,  82.,  28.],\n",
              "       [ 45.,  32.,  28.],\n",
              "       [ 35.,  61.,  28.],\n",
              "       [ 40.,  31.,  29.],\n",
              "       [ 23.,  87.,  29.],\n",
              "       [ 60.,   4.,  30.],\n",
              "       [ 21.,  73.,  30.],\n",
              "       [ 53.,   4.,  33.],\n",
              "       [ 18.,  92.,  33.],\n",
              "       [ 49.,  14.,  33.],\n",
              "       [ 21.,  81.,  33.],\n",
              "       [ 42.,  17.,  34.],\n",
              "       [ 30.,  73.,  34.],\n",
              "       [ 36.,  26.,  37.],\n",
              "       [ 20.,  75.,  37.],\n",
              "       [ 65.,  35.,  38.],\n",
              "       [ 24.,  92.,  38.],\n",
              "       [ 48.,  36.,  39.],\n",
              "       [ 31.,  61.,  39.],\n",
              "       [ 49.,  28.,  39.],\n",
              "       [ 24.,  65.,  39.],\n",
              "       [ 50.,  55.,  40.],\n",
              "       [ 27.,  47.,  40.],\n",
              "       [ 29.,  42.,  40.],\n",
              "       [ 31.,  42.,  40.],\n",
              "       [ 49.,  52.,  42.],\n",
              "       [ 33.,  60.,  42.],\n",
              "       [ 31.,  54.,  43.],\n",
              "       [ 59.,  60.,  43.],\n",
              "       [ 50.,  45.,  43.],\n",
              "       [ 47.,  41.,  43.],\n",
              "       [ 51.,  50.,  44.],\n",
              "       [ 69.,  46.,  44.],\n",
              "       [ 27.,  51.,  46.],\n",
              "       [ 53.,  46.,  46.],\n",
              "       [ 70.,  56.,  46.],\n",
              "       [ 19.,  55.,  46.],\n",
              "       [ 67.,  52.,  47.],\n",
              "       [ 54.,  59.,  47.],\n",
              "       [ 63.,  51.,  48.],\n",
              "       [ 18.,  59.,  48.],\n",
              "       [ 43.,  50.,  48.],\n",
              "       [ 68.,  48.,  48.],\n",
              "       [ 19.,  59.,  48.],\n",
              "       [ 32.,  47.,  48.],\n",
              "       [ 70.,  55.,  49.],\n",
              "       [ 47.,  42.,  49.],\n",
              "       [ 60.,  49.,  50.],\n",
              "       [ 60.,  56.,  50.],\n",
              "       [ 59.,  47.,  54.],\n",
              "       [ 26.,  54.,  54.],\n",
              "       [ 45.,  53.,  54.],\n",
              "       [ 40.,  48.,  54.],\n",
              "       [ 23.,  52.,  54.],\n",
              "       [ 49.,  42.,  54.],\n",
              "       [ 57.,  51.,  54.],\n",
              "       [ 38.,  55.,  54.],\n",
              "       [ 67.,  41.,  54.],\n",
              "       [ 46.,  44.,  54.],\n",
              "       [ 21.,  57.,  54.],\n",
              "       [ 48.,  46.,  54.],\n",
              "       [ 55.,  58.,  57.],\n",
              "       [ 22.,  55.,  57.],\n",
              "       [ 34.,  60.,  58.],\n",
              "       [ 50.,  46.,  58.],\n",
              "       [ 68.,  55.,  59.],\n",
              "       [ 18.,  41.,  59.],\n",
              "       [ 48.,  49.,  60.],\n",
              "       [ 40.,  40.,  60.],\n",
              "       [ 32.,  42.,  60.],\n",
              "       [ 24.,  52.,  60.],\n",
              "       [ 47.,  47.,  60.],\n",
              "       [ 27.,  50.,  60.],\n",
              "       [ 48.,  42.,  61.],\n",
              "       [ 20.,  49.,  61.],\n",
              "       [ 23.,  41.,  62.],\n",
              "       [ 49.,  48.,  62.],\n",
              "       [ 67.,  59.,  62.],\n",
              "       [ 26.,  55.,  62.],\n",
              "       [ 49.,  56.,  62.],\n",
              "       [ 21.,  42.,  62.],\n",
              "       [ 66.,  50.,  63.],\n",
              "       [ 54.,  46.,  63.],\n",
              "       [ 68.,  43.,  63.],\n",
              "       [ 66.,  48.,  63.],\n",
              "       [ 65.,  52.,  63.],\n",
              "       [ 19.,  54.,  63.],\n",
              "       [ 38.,  42.,  64.],\n",
              "       [ 19.,  46.,  64.],\n",
              "       [ 18.,  48.,  65.],\n",
              "       [ 19.,  50.,  65.],\n",
              "       [ 63.,  43.,  65.],\n",
              "       [ 49.,  59.,  65.],\n",
              "       [ 51.,  43.,  67.],\n",
              "       [ 50.,  57.,  67.],\n",
              "       [ 27.,  56.,  67.],\n",
              "       [ 38.,  40.,  67.],\n",
              "       [ 40.,  58.,  69.],\n",
              "       [ 39.,  91.,  69.],\n",
              "       [ 23.,  29.,  70.],\n",
              "       [ 31.,  77.,  70.],\n",
              "       [ 43.,  35.,  71.],\n",
              "       [ 40.,  95.,  71.],\n",
              "       [ 59.,  11.,  71.],\n",
              "       [ 38.,  75.,  71.],\n",
              "       [ 47.,   9.,  71.],\n",
              "       [ 39.,  75.,  71.],\n",
              "       [ 25.,  34.,  72.],\n",
              "       [ 31.,  71.,  72.],\n",
              "       [ 20.,   5.,  73.],\n",
              "       [ 29.,  88.,  73.],\n",
              "       [ 44.,   7.,  73.],\n",
              "       [ 32.,  73.,  73.],\n",
              "       [ 19.,  10.,  74.],\n",
              "       [ 35.,  72.,  74.],\n",
              "       [ 57.,   5.,  75.],\n",
              "       [ 32.,  93.,  75.],\n",
              "       [ 28.,  40.,  76.],\n",
              "       [ 32.,  87.,  76.],\n",
              "       [ 25.,  12.,  77.],\n",
              "       [ 28.,  97.,  77.],\n",
              "       [ 48.,  36.,  77.],\n",
              "       [ 32.,  74.,  77.],\n",
              "       [ 34.,  22.,  78.],\n",
              "       [ 34.,  90.,  78.],\n",
              "       [ 43.,  17.,  78.],\n",
              "       [ 39.,  88.,  78.],\n",
              "       [ 44.,  20.,  78.],\n",
              "       [ 38.,  76.,  78.],\n",
              "       [ 47.,  16.,  78.],\n",
              "       [ 27.,  89.,  78.],\n",
              "       [ 37.,   1.,  78.],\n",
              "       [ 30.,  78.,  78.],\n",
              "       [ 34.,   1.,  78.],\n",
              "       [ 30.,  73.,  78.],\n",
              "       [ 56.,  35.,  79.],\n",
              "       [ 29.,  83.,  79.],\n",
              "       [ 19.,   5.,  81.],\n",
              "       [ 31.,  93.,  81.],\n",
              "       [ 50.,  26.,  85.],\n",
              "       [ 36.,  75.,  85.],\n",
              "       [ 42.,  20.,  86.],\n",
              "       [ 33.,  95.,  86.],\n",
              "       [ 36.,  27.,  87.],\n",
              "       [ 32.,  63.,  87.],\n",
              "       [ 40.,  13.,  87.],\n",
              "       [ 28.,  75.,  87.],\n",
              "       [ 36.,  10.,  87.],\n",
              "       [ 36.,  92.,  87.],\n",
              "       [ 52.,  13.,  88.],\n",
              "       [ 30.,  86.,  88.],\n",
              "       [ 58.,  15.,  88.],\n",
              "       [ 27.,  69.,  88.],\n",
              "       [ 59.,  14.,  93.],\n",
              "       [ 35.,  90.,  93.],\n",
              "       [ 37.,  32.,  97.],\n",
              "       [ 32.,  86.,  97.],\n",
              "       [ 46.,  15.,  98.],\n",
              "       [ 29.,  88.,  98.],\n",
              "       [ 41.,  39.,  99.],\n",
              "       [ 30.,  97.,  99.],\n",
              "       [ 54.,  24., 101.],\n",
              "       [ 28.,  68., 101.],\n",
              "       [ 41.,  17., 103.],\n",
              "       [ 36.,  85., 103.],\n",
              "       [ 34.,  23., 103.],\n",
              "       [ 32.,  69., 103.],\n",
              "       [ 33.,   8., 113.],\n",
              "       [ 38.,  91., 113.],\n",
              "       [ 47.,  16., 120.],\n",
              "       [ 35.,  79., 120.],\n",
              "       [ 45.,  28., 126.],\n",
              "       [ 32.,  74., 126.],\n",
              "       [ 32.,  18., 137.],\n",
              "       [ 30.,  83., 137.]])"
            ]
          },
          "metadata": {},
          "execution_count": 15
        }
      ]
    },
    {
      "cell_type": "code",
      "source": [
        "from scipy.cluster.vq import kmeans,vq"
      ],
      "metadata": {
        "id": "oJLcAaEOUucF"
      },
      "execution_count": null,
      "outputs": []
    },
    {
      "cell_type": "code",
      "source": [
        "centroids,distortions=kmeans(X,5)"
      ],
      "metadata": {
        "id": "resc-BU2VNBU"
      },
      "execution_count": null,
      "outputs": []
    },
    {
      "cell_type": "code",
      "source": [
        "centroids"
      ],
      "metadata": {
        "colab": {
          "base_uri": "https://localhost:8080/"
        },
        "id": "EbEikccZV2Mr",
        "outputId": "98a0603c-2158-4257-80dc-2e991e9d424c"
      },
      "execution_count": null,
      "outputs": [
        {
          "output_type": "execute_result",
          "data": {
            "text/plain": [
              "array([[40.66666667, 17.58333333, 87.75      ],\n",
              "       [45.2173913 , 20.91304348, 26.30434783],\n",
              "       [43.08860759, 49.56962025, 55.29113924],\n",
              "       [32.69230769, 82.12820513, 86.53846154],\n",
              "       [25.52173913, 78.56521739, 26.30434783]])"
            ]
          },
          "metadata": {},
          "execution_count": 29
        }
      ]
    },
    {
      "cell_type": "code",
      "source": [
        "distortions"
      ],
      "metadata": {
        "colab": {
          "base_uri": "https://localhost:8080/"
        },
        "id": "Vd2piQFgV3_C",
        "outputId": "9709584f-bfdd-4bdf-fe18-dafbbe635b5b"
      },
      "execution_count": null,
      "outputs": [
        {
          "output_type": "execute_result",
          "data": {
            "text/plain": [
              "17.7645410993765"
            ]
          },
          "metadata": {},
          "execution_count": 30
        }
      ]
    },
    {
      "cell_type": "code",
      "source": [
        "labels,_=vq(X,centroids)"
      ],
      "metadata": {
        "id": "fAL10ZWcV8Zi"
      },
      "execution_count": null,
      "outputs": []
    },
    {
      "cell_type": "code",
      "source": [
        "labels"
      ],
      "metadata": {
        "colab": {
          "base_uri": "https://localhost:8080/"
        },
        "id": "DmD6KYZuWUXc",
        "outputId": "65f8ce11-a003-4433-c152-187bd6deaa49"
      },
      "execution_count": null,
      "outputs": [
        {
          "output_type": "execute_result",
          "data": {
            "text/plain": [
              "array([1, 4, 1, 4, 1, 4, 1, 4, 1, 4, 1, 4, 1, 4, 1, 4, 1, 4, 1, 4, 1, 4,\n",
              "       1, 4, 1, 4, 1, 4, 1, 4, 1, 4, 1, 4, 1, 4, 1, 4, 1, 4, 1, 4, 1, 4,\n",
              "       1, 4, 2, 2, 2, 2, 2, 2, 2, 2, 2, 2, 2, 2, 2, 2, 2, 2, 2, 2, 2, 2,\n",
              "       2, 2, 2, 2, 2, 2, 2, 2, 2, 2, 2, 2, 2, 2, 2, 2, 2, 2, 2, 2, 2, 2,\n",
              "       2, 2, 2, 2, 2, 2, 2, 2, 2, 2, 2, 2, 2, 2, 2, 2, 2, 2, 2, 2, 2, 2,\n",
              "       2, 2, 2, 2, 2, 2, 2, 2, 2, 2, 2, 2, 2, 3, 0, 3, 2, 3, 0, 3, 0, 3,\n",
              "       0, 3, 0, 3, 0, 3, 0, 3, 0, 3, 2, 3, 0, 3, 0, 3, 0, 3, 0, 3, 0, 3,\n",
              "       0, 3, 0, 3, 0, 3, 0, 3, 0, 3, 0, 3, 0, 3, 0, 3, 0, 3, 0, 3, 0, 3,\n",
              "       0, 3, 0, 3, 0, 3, 0, 3, 0, 3, 0, 3, 0, 3, 0, 3, 0, 3, 0, 3, 0, 3,\n",
              "       0, 3], dtype=int32)"
            ]
          },
          "metadata": {},
          "execution_count": 32
        }
      ]
    },
    {
      "cell_type": "code",
      "source": [
        "df['Customer_segment']=labels"
      ],
      "metadata": {
        "id": "J79cnZ0SWVBS"
      },
      "execution_count": null,
      "outputs": []
    },
    {
      "cell_type": "code",
      "source": [
        "df.head()"
      ],
      "metadata": {
        "colab": {
          "base_uri": "https://localhost:8080/",
          "height": 206
        },
        "id": "MWxxYV8VWceK",
        "outputId": "935fab58-c418-459e-b852-9edafd3839e1"
      },
      "execution_count": null,
      "outputs": [
        {
          "output_type": "execute_result",
          "data": {
            "text/plain": [
              "   CustomerID   Genre   Age  Annual Income (k$)  Spending Score (1-100)  \\\n",
              "0           1    Male  19.0                15.0                    39.0   \n",
              "1           2    Male  21.0                15.0                    81.0   \n",
              "2           3  Female  20.0                16.0                     6.0   \n",
              "3           4  Female  23.0                16.0                    77.0   \n",
              "4           5  Female  31.0                17.0                    40.0   \n",
              "\n",
              "   Customer_segment  \n",
              "0                 1  \n",
              "1                 4  \n",
              "2                 1  \n",
              "3                 4  \n",
              "4                 1  "
            ],
            "text/html": [
              "\n",
              "  <div id=\"df-59379ca3-292a-45c4-b9eb-292440a333ea\">\n",
              "    <div class=\"colab-df-container\">\n",
              "      <div>\n",
              "<style scoped>\n",
              "    .dataframe tbody tr th:only-of-type {\n",
              "        vertical-align: middle;\n",
              "    }\n",
              "\n",
              "    .dataframe tbody tr th {\n",
              "        vertical-align: top;\n",
              "    }\n",
              "\n",
              "    .dataframe thead th {\n",
              "        text-align: right;\n",
              "    }\n",
              "</style>\n",
              "<table border=\"1\" class=\"dataframe\">\n",
              "  <thead>\n",
              "    <tr style=\"text-align: right;\">\n",
              "      <th></th>\n",
              "      <th>CustomerID</th>\n",
              "      <th>Genre</th>\n",
              "      <th>Age</th>\n",
              "      <th>Annual Income (k$)</th>\n",
              "      <th>Spending Score (1-100)</th>\n",
              "      <th>Customer_segment</th>\n",
              "    </tr>\n",
              "  </thead>\n",
              "  <tbody>\n",
              "    <tr>\n",
              "      <th>0</th>\n",
              "      <td>1</td>\n",
              "      <td>Male</td>\n",
              "      <td>19.0</td>\n",
              "      <td>15.0</td>\n",
              "      <td>39.0</td>\n",
              "      <td>1</td>\n",
              "    </tr>\n",
              "    <tr>\n",
              "      <th>1</th>\n",
              "      <td>2</td>\n",
              "      <td>Male</td>\n",
              "      <td>21.0</td>\n",
              "      <td>15.0</td>\n",
              "      <td>81.0</td>\n",
              "      <td>4</td>\n",
              "    </tr>\n",
              "    <tr>\n",
              "      <th>2</th>\n",
              "      <td>3</td>\n",
              "      <td>Female</td>\n",
              "      <td>20.0</td>\n",
              "      <td>16.0</td>\n",
              "      <td>6.0</td>\n",
              "      <td>1</td>\n",
              "    </tr>\n",
              "    <tr>\n",
              "      <th>3</th>\n",
              "      <td>4</td>\n",
              "      <td>Female</td>\n",
              "      <td>23.0</td>\n",
              "      <td>16.0</td>\n",
              "      <td>77.0</td>\n",
              "      <td>4</td>\n",
              "    </tr>\n",
              "    <tr>\n",
              "      <th>4</th>\n",
              "      <td>5</td>\n",
              "      <td>Female</td>\n",
              "      <td>31.0</td>\n",
              "      <td>17.0</td>\n",
              "      <td>40.0</td>\n",
              "      <td>1</td>\n",
              "    </tr>\n",
              "  </tbody>\n",
              "</table>\n",
              "</div>\n",
              "      <button class=\"colab-df-convert\" onclick=\"convertToInteractive('df-59379ca3-292a-45c4-b9eb-292440a333ea')\"\n",
              "              title=\"Convert this dataframe to an interactive table.\"\n",
              "              style=\"display:none;\">\n",
              "        \n",
              "  <svg xmlns=\"http://www.w3.org/2000/svg\" height=\"24px\"viewBox=\"0 0 24 24\"\n",
              "       width=\"24px\">\n",
              "    <path d=\"M0 0h24v24H0V0z\" fill=\"none\"/>\n",
              "    <path d=\"M18.56 5.44l.94 2.06.94-2.06 2.06-.94-2.06-.94-.94-2.06-.94 2.06-2.06.94zm-11 1L8.5 8.5l.94-2.06 2.06-.94-2.06-.94L8.5 2.5l-.94 2.06-2.06.94zm10 10l.94 2.06.94-2.06 2.06-.94-2.06-.94-.94-2.06-.94 2.06-2.06.94z\"/><path d=\"M17.41 7.96l-1.37-1.37c-.4-.4-.92-.59-1.43-.59-.52 0-1.04.2-1.43.59L10.3 9.45l-7.72 7.72c-.78.78-.78 2.05 0 2.83L4 21.41c.39.39.9.59 1.41.59.51 0 1.02-.2 1.41-.59l7.78-7.78 2.81-2.81c.8-.78.8-2.07 0-2.86zM5.41 20L4 18.59l7.72-7.72 1.47 1.35L5.41 20z\"/>\n",
              "  </svg>\n",
              "      </button>\n",
              "      \n",
              "  <style>\n",
              "    .colab-df-container {\n",
              "      display:flex;\n",
              "      flex-wrap:wrap;\n",
              "      gap: 12px;\n",
              "    }\n",
              "\n",
              "    .colab-df-convert {\n",
              "      background-color: #E8F0FE;\n",
              "      border: none;\n",
              "      border-radius: 50%;\n",
              "      cursor: pointer;\n",
              "      display: none;\n",
              "      fill: #1967D2;\n",
              "      height: 32px;\n",
              "      padding: 0 0 0 0;\n",
              "      width: 32px;\n",
              "    }\n",
              "\n",
              "    .colab-df-convert:hover {\n",
              "      background-color: #E2EBFA;\n",
              "      box-shadow: 0px 1px 2px rgba(60, 64, 67, 0.3), 0px 1px 3px 1px rgba(60, 64, 67, 0.15);\n",
              "      fill: #174EA6;\n",
              "    }\n",
              "\n",
              "    [theme=dark] .colab-df-convert {\n",
              "      background-color: #3B4455;\n",
              "      fill: #D2E3FC;\n",
              "    }\n",
              "\n",
              "    [theme=dark] .colab-df-convert:hover {\n",
              "      background-color: #434B5C;\n",
              "      box-shadow: 0px 1px 3px 1px rgba(0, 0, 0, 0.15);\n",
              "      filter: drop-shadow(0px 1px 2px rgba(0, 0, 0, 0.3));\n",
              "      fill: #FFFFFF;\n",
              "    }\n",
              "  </style>\n",
              "\n",
              "      <script>\n",
              "        const buttonEl =\n",
              "          document.querySelector('#df-59379ca3-292a-45c4-b9eb-292440a333ea button.colab-df-convert');\n",
              "        buttonEl.style.display =\n",
              "          google.colab.kernel.accessAllowed ? 'block' : 'none';\n",
              "\n",
              "        async function convertToInteractive(key) {\n",
              "          const element = document.querySelector('#df-59379ca3-292a-45c4-b9eb-292440a333ea');\n",
              "          const dataTable =\n",
              "            await google.colab.kernel.invokeFunction('convertToInteractive',\n",
              "                                                     [key], {});\n",
              "          if (!dataTable) return;\n",
              "\n",
              "          const docLinkHtml = 'Like what you see? Visit the ' +\n",
              "            '<a target=\"_blank\" href=https://colab.research.google.com/notebooks/data_table.ipynb>data table notebook</a>'\n",
              "            + ' to learn more about interactive tables.';\n",
              "          element.innerHTML = '';\n",
              "          dataTable['output_type'] = 'display_data';\n",
              "          await google.colab.output.renderOutput(dataTable, element);\n",
              "          const docLink = document.createElement('div');\n",
              "          docLink.innerHTML = docLinkHtml;\n",
              "          element.appendChild(docLink);\n",
              "        }\n",
              "      </script>\n",
              "    </div>\n",
              "  </div>\n",
              "  "
            ]
          },
          "metadata": {},
          "execution_count": 34
        }
      ]
    },
    {
      "cell_type": "code",
      "source": [
        "plt.figure(figsize=(12,8))\n",
        "sns.scatterplot(x='Annual Income (k$)',y='Spending Score (1-100)',data=df,hue='Customer_segment',palette='husl')"
      ],
      "metadata": {
        "colab": {
          "base_uri": "https://localhost:8080/",
          "height": 514
        },
        "id": "1Bnk6g5DWdTA",
        "outputId": "da6d0796-4a4a-4392-cc39-bffb0337ca02"
      },
      "execution_count": null,
      "outputs": [
        {
          "output_type": "execute_result",
          "data": {
            "text/plain": [
              "<matplotlib.axes._subplots.AxesSubplot at 0x7f4a6b47b7d0>"
            ]
          },
          "metadata": {},
          "execution_count": 38
        },
        {
          "output_type": "display_data",
          "data": {
            "text/plain": [
              "<Figure size 864x576 with 1 Axes>"
            ],
            "image/png": "[encoded data removed]"
          },
          "metadata": {
            "needs_background": "light"
          }
        }
      ]
    },
    {
      "cell_type": "code",
      "source": [
        "WCSS=[]\n",
        "num_clusters=range(2,15)\n",
        "num_clusters"
      ],
      "metadata": {
        "colab": {
          "base_uri": "https://localhost:8080/"
        },
        "id": "5SO1aMvQWn3R",
        "outputId": "e9073939-b8a8-4141-eb51-d78acdd1194a"
      },
      "execution_count": null,
      "outputs": [
        {
          "output_type": "execute_result",
          "data": {
            "text/plain": [
              "range(2, 15)"
            ]
          },
          "metadata": {},
          "execution_count": 40
        }
      ]
    },
    {
      "cell_type": "code",
      "source": [
        "for i in num_clusters:\n",
        "  centroids2,distortions2=kmeans(X,i)\n",
        "  WCSS.append(distortions2)"
      ],
      "metadata": {
        "id": "dqICcLimXJCT"
      },
      "execution_count": null,
      "outputs": []
    },
    {
      "cell_type": "code",
      "source": [
        "WCSS"
      ],
      "metadata": {
        "colab": {
          "base_uri": "https://localhost:8080/"
        },
        "id": "1O2OpM8TXx3A",
        "outputId": "c6eebeb6-9ac5-447b-a7d6-f50b6626c6f9"
      },
      "execution_count": null,
      "outputs": [
        {
          "output_type": "execute_result",
          "data": {
            "text/plain": [
              "[29.376941157223918,\n",
              " 24.013910603806497,\n",
              " 20.457864765471193,\n",
              " 17.7645410993765,\n",
              " 15.432713147142008,\n",
              " 14.552421115757715,\n",
              " 13.805258705724075,\n",
              " 13.240207387558046,\n",
              " 12.721325753756387,\n",
              " 12.152384120916954,\n",
              " 11.76780831352628,\n",
              " 11.361793127776965,\n",
              " 10.986682809992024]"
            ]
          },
          "metadata": {},
          "execution_count": 42
        }
      ]
    },
    {
      "cell_type": "code",
      "source": [
        "WCSS=np.array(WCSS)\n",
        "num_clusters=np.arange(2,15)"
      ],
      "metadata": {
        "id": "zwQWFWVcXzAw"
      },
      "execution_count": null,
      "outputs": []
    },
    {
      "cell_type": "code",
      "source": [
        "plt.figure(figsize=(12,8))\n",
        "plt.plot(num_clusters,WCSS)\n",
        "plt.title('ELBOW METHOD')"
      ],
      "metadata": {
        "colab": {
          "base_uri": "https://localhost:8080/",
          "height": 516
        },
        "id": "D-Pi4ovVX_TR",
        "outputId": "82d84ad0-4022-41db-eb1d-7f104f935f21"
      },
      "execution_count": null,
      "outputs": [
        {
          "output_type": "execute_result",
          "data": {
            "text/plain": [
              "Text(0.5, 1.0, 'ELBOW METHOD')"
            ]
          },
          "metadata": {},
          "execution_count": 45
        },
        {
          "output_type": "display_data",
          "data": {
            "text/plain": [
              "<Figure size 864x576 with 1 Axes>"
            ],
            "image/png": "[encoded data removed]"
          },
          "metadata": {
            "needs_background": "light"
          }
        }
      ]
    }
  ]
}